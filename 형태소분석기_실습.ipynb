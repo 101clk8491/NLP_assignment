{
  "nbformat": 4,
  "nbformat_minor": 0,
  "metadata": {
    "colab": {
      "name": "형태소분석기 실습.ipynb의 사본",
      "provenance": [],
      "collapsed_sections": [],
      "include_colab_link": true
    },
    "kernelspec": {
      "name": "python3",
      "display_name": "Python 3"
    }
  },
  "cells": [
    {
      "cell_type": "markdown",
      "metadata": {
        "id": "view-in-github",
        "colab_type": "text"
      },
      "source": [
        "<a href=\"https://colab.research.google.com/github/101clk8491/NLP_assignment/blob/main/%ED%98%95%ED%83%9C%EC%86%8C%EB%B6%84%EC%84%9D%EA%B8%B0_%EC%8B%A4%EC%8A%B5.ipynb\" target=\"_parent\"><img src=\"https://colab.research.google.com/assets/colab-badge.svg\" alt=\"Open In Colab\"/></a>"
      ]
    },
    {
      "cell_type": "code",
      "metadata": {
        "id": "kQ4EHtrLvrfV"
      },
      "source": [
        "\n",
        "!apt-get update\n",
        "!apt-get install g++ openjdk-8-jdk\n",
        "!pip install JPype1\n",
        "!pip install rhinoMorph"
      ],
      "execution_count": null,
      "outputs": []
    },
    {
      "cell_type": "code",
      "metadata": {
        "id": "8OMmFaIavwoL"
      },
      "source": [
        "import rhinoMorph\n",
        "\n",
        "rn = rhinoMorph.startRhino()\n",
        "text = \"한글로 된 한글텍스트를 분석하는 것은 즐겁다.\"\n",
        "\n",
        "# 사용 1 : 모든 형태소 보이기\n",
        "text_analyzed = rhinoMorph.onlyMorph_list(rn, text)\n",
        "print('\\n1. 형태소 분석 결과: ', text_analyzed)"
      ],
      "execution_count": null,
      "outputs": []
    },
    {
      "cell_type": "code",
      "metadata": {
        "id": "-dDY08W9vy46"
      },
      "source": [
        "# 사용 2 : 실질형태소만, 동사의 어말어미 제외\n",
        "text_analyzed = rhinoMorph.onlyMorph_list(rn, text, pos=['NNG', 'NNP', 'NP', 'VV', 'VA', 'XR', 'IC', 'MM', 'MAG', 'MAJ'])\n",
        "print('\\n2. 형태소 분석 결과: ', text_analyzed)"
      ],
      "execution_count": null,
      "outputs": []
    },
    {
      "cell_type": "code",
      "metadata": {
        "id": "dd0kmgsgv0WS"
      },
      "source": [
        "# 사용 3 : 실질형태소만, 동사의 어말어미 포함\n",
        "text_analyzed = rhinoMorph.onlyMorph_list(rn, text, pos=['NNG', 'NNP', 'NP', 'VV', 'VA', 'XR', 'IC', 'MM', 'MAG', 'MAJ'], eomi=True)\n",
        "print('\\n3. 형태소 분석 결과: ', text_analyzed)"
      ],
      "execution_count": null,
      "outputs": []
    },
    {
      "cell_type": "code",
      "metadata": {
        "id": "8-nB3kofv1p8"
      },
      "source": [
        "# 사용 4 : 전체형태소, 품사정보도 가져오기\n",
        "morphs, poses = rhinoMorph.wholeResult_list(rn, text)\n",
        "print('\\n4. 형태소 분석 결과: ')\n",
        "print('morphs: ', morphs)\n",
        "print('poses: ', poses)"
      ],
      "execution_count": null,
      "outputs": []
    },
    {
      "cell_type": "code",
      "metadata": {
        "id": "eHypAEFBv2_O"
      },
      "source": [
        "# 사용 5 : 원문의 어절 정보를 같이 가져오기\n",
        "text_analyzed = rhinoMorph.wholeResult_text(rn, text)\n",
        "print('\\n5. 형태소 분석 결과:\\n', text_analyzed)"
      ],
      "execution_count": null,
      "outputs": []
    },
    {
      "cell_type": "markdown",
      "metadata": {
        "id": "GqCRjS0pv4N7"
      },
      "source": [
        "# 추가 옵션"
      ]
    },
    {
      "cell_type": "code",
      "metadata": {
        "id": "m56Oai2Xv6Op"
      },
      "source": [
        "# 사용 6,7 : 한 어절에서 연결된 명사를 하나의 명사로 결합하기\n",
        "# onlyMorph_list와 wholeResult_list에서 사용 가능하다\n",
        "\n",
        "text_analyzed = rhinoMorph.onlyMorph_list(rn, text, pos=['NNG', 'NNP', 'NP', 'VV', 'VA', 'XR', 'IC', 'MM', 'MAG', 'MAJ'], combineN=True)\n",
        "print('\\n6. 형태소 분석 결과:\\n', text_analyzed)\n",
        "\n",
        "morphs, poses = rhinoMorph.wholeResult_list(rn, text, combineN=True)\n",
        "print('\\n7. 형태소 분석 결과: ')\n",
        "print('morphs: ', morphs)\n",
        "print('poses: ', poses)"
      ],
      "execution_count": null,
      "outputs": []
    },
    {
      "cell_type": "code",
      "metadata": {
        "id": "g59jkWQBv87S"
      },
      "source": [
        "# 사용 8, 9 : 어근 + 하 형태를 하나의 동사로 출력하기\n",
        "# xrVv 아규먼트가 담당하며, 기본값은 False로서 둘을 분리하여 출력한다\n",
        "# 분리된 어근이 명사인 경우, 명사로 출력된다\n",
        "# onlyMorph_list, wholeResult_list, wholeResult_text 등 모든 함수에서 사용 가능하다\n",
        "\n",
        "text_analyzed = rhinoMorph.wholeResult_list(rn, '사랑합니다')\n",
        "print('\\n8. 형태소 분석 결과: ', text_analyzed)\n",
        "\n",
        "text_analyzed = rhinoMorph.wholeResult_list(rn, '사랑합니다', xrVv=True)\n",
        "print('\\n9. 형태소 분석 결과: ', text_analyzed)"
      ],
      "execution_count": null,
      "outputs": []
    }
  ]
}